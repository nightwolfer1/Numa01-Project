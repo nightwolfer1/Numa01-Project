

 "cells": [
  {
   "cell_type": "code",
   "execution_count": 1,
   "metadata": {},
   "outputs": [
    {
     "data": {
      "text/plain": [
       "'Study method for compressing a gray scale image. Want to compress it such that we can store it with as little data as possibleas long as we can recognize the relation to the original. We dont care about quality otherwise. The mathemathical method we use 
is called Haar wavelets a method based on simply taking arithmethic means and differences.'"
      ]
     },
     "execution_count": 1,
     "metadata": {},
     "output_type": "execute_result"
    }
   ],
   "source": [
    "'''Study method for compressing a gray scale image. Want to compress it such that we can store it with as little data as possibleas long as we can recognize the relation to the original. We dont care about quality otherwise. The mathemathical method we use 
is called Haar wavelets a method based on simply taking arithmethic means and differences.'''\n",
    "\n"
   ]
  },
  {
   "cell_type": "code",
   "execution_count": 24,
   "metadata": {},
   "outputs": [
    {
     "name": "stdout",
     "output_type": "stream",
     "text": [
      "Smallest dimension for transform matrix is 2x2\n",
      "Transform matrix has to be assigned with even number\n",
      "Matrix yielded correct output, same transform matrix as assignment\n"
     ]
    }
   ],
   "source": [
    "'''\n",
    "Importing Classes that might be needed \n",
    "'''\n",
    "import pandas as pd\n",
    "import numpy as np \n",
    "import matplotlib.pyplot as plt\n",
    "import scipy.misc as sm\n",
    "import datetime as dt\n",
    "\n",
    "\n",
    "\n",
    "\n",
    "\n",
    "\n",
    "def create_haar_array(N):\n",
    "    '''\n",
    "    Method generates a transform matrix \n",
    "\n",
    "    Parameters\n",
    "    ----------\n",
    "    N : Integer, Float\n",
    "        The Generated transform matrix is quadratic NXN, N is the dimension\n",
    "        meaning how many pixels in each column of the picture.\n",
    "        Has to be even number and size of atleast 2.\n",
    "\n",
    "    Returns\n",
    "    -------\n",
    "    Transform Matrix W_N \n",
    "    \n",
    "    Type:  Numpy.array\n",
    "\n",
    "    '''\n",
    "    \n",
    "    if N%2 != 0:\n",
    "        raise ValueError('Transform matrix has to be assigned with even number')\n",
    "    elif N < 2:\n",
    "        raise ValueError('Smallest dimension for transform matrix is 2x2')\n",
    "    \n",
    "    \n",
    "\n",
    "    \n",
    "    #Initialize the matrix NXN dimensions\n",
    "    Wn=np.zeros((N,N))\n",
    "    '''\n",
    "    The Transform matrix is multiplied by the matrix representing grey scale image.\n",
    "    The resulting array is going to be of same dimension as Transform matrix\n",
    "    where each column is N/2 weighted averages followed by N/2 weighted differences.\n",
    "    \n",
    "    '''\n",
    "    #Weighted factor\n",
    "    Factor=np.sqrt(2)\n",
    "    '''\n",
    "    The weighted average and difference is computed on two consectuive pixels, therefor\n",
    "    in first row the two first columns in the row are used for tranforming weighted average\n",
    "    then the next two consecutive columns in next row and so on untill we reach row N/2.\n",
    "    Then we do the same but with the differences untill last indice.\n",
    "    Dot products with transform matrix result in sums for average 1/2*sum of two pixels is average\n",
    "    and 1/2*(pixel(n+1)-pixel(n) ) is difference. If the transform matrix is used\n",
    "    with a matrix simply in resulting matrix each column will contain averages to N/2 and differences N/2 -> N. \n",
    "    '''\n",
    "    #Assigning too transform matrix\n",
    "    Lp=0#Low pass filter tick\n",
    "    Hp=0#High pass filter tick\n",
    "    for n in range(N):\n",
    "        if n < N/2:\n",
    "            Wn[n,Lp:(Lp+2)]=np.array([1/2,1/2])\n",
    "            Lp=Lp+2 #this is because in next row the Lp filter values are two indices to the right\n",
    "        else:\n",
    "            Wn[n,Hp:(Hp+2)]=np.array([-1/2,1/2])\n",
    "            Hp=Hp+2 #this is because in next row the Hp filter values are two indices to the right\n",
    "        \n",
    "    return Factor*Wn\n",
    "\n",
    "'''\n",
    "Now i will make some simple tests to prove the function yields the transform matrix as expexted,\n",
    "We know form the assignment instruction how the transform matrix W8 i supposed to look. So i reproduce this matrix manually \n",
    "and do a boolean comparasion, ill also do some minor tests, we cant make tranform matrix of size N < 2 and uneven numbers.\n",
    "'''\n",
    "def main():\n",
    "    #Make the assignment matrix W8 to test if we get the same result\n",
    "    
Test_Matrix=np.sqrt(2)*np.array([np.array([1/2,1/2,0,0,0,0,0,0]),np.array([0,0,1/2,1/2,0,0,0,0]),np.array([0,0,0,0,1/2,1/2,0,0]),np.array([0,0,0,0,0,0,1/2,1/2]),np.array([-1/2,1/2,0,0,0,0,0,0]),np.array([0,0,-1/2,1/2,0,0,0,0]),np.array([0,0,0,0,-1/2,1/2,0,0]),np.array([0,0,0,0,0,0,-1/2,1/2])]) 
\n",
    "    \n",
    "    \n",
    "    #Test if we can assign N < 2\n",
    "    try:\n",
    "        create_haar_array(0)\n",
    "        \n",
    "    except ValueError as error: \n",
    "        print(error)\n",
    "    \n",
    "    #Test if we can assign uneven numers    \n",
    "    try:\n",
    "        create_haar_array(3)\n",
    "        \n",
    "    except ValueError as error:\n",
    "        print(error)\n",
    "    #Test if we get the expected Transform matrix W8\n",
    "    assert Test_Matrix.all() == create_haar_array(8).all()\n",
    "    print('Matrix yielded correct output, same transform matrix as assignment, no AssertionError')\n",
    "    \n",
    "        \n",
    "if __name__ == \"__main__\":\n",
    "    main()\n",
    "    "
   ]
  },
  {
   "cell_type": "code",
   "execution_count": 25,
   "metadata": {},
   "outputs": [
    {
     "name": "stdout",
     "output_type": "stream",
     "text": [
      "C:\\Users\\nightwolfer\n"
     ]
    }
   ],
   "source": [
    "cd"
   ]
  },
  {
   "cell_type": "code",
   "execution_count": null,
   "metadata": {},
   "outputs": [],
   "source": []
  }
 ],
 "metadata": {
  "kernelspec": {
   "display_name": "Python 3",
   "language": "python",
   "name": "python3"
  },
  "language_info": {
   "codemirror_mode": {
    "name": "ipython",
    "version": 3
   },
   "file_extension": ".py",
   "mimetype": "text/x-python",
   "name": "python",
   "nbconvert_exporter": "python",
   "pygments_lexer": "ipython3",
   "version": "3.7.6"
  }
 },
 "nbformat": 4,
 "nbformat_minor": 4
}


