{
 "cells": [
  {
   "cell_type": "code",
   "execution_count": 1,
   "metadata": {},
   "outputs": [],
   "source": [
    "import numpy as np"
   ]
  },
  {
   "cell_type": "markdown",
   "metadata": {},
   "source": [
    "The discrete Haar Wavelet transformation (HWT) is a way of compressing information for faster transmission. \n",
    "It can also be used for lossy compression by approximating values near 0 with 0. Given an array of numbers one can take \n",
    "the average and the difference of two adjacent values $a$ and $b$ and send those to the recipient:\n",
    "    <br>\n",
    "    $(a, b) \\rightarrow ( (b + a)/2, (b - a)/2 )$\n",
    "\n",
    "Mathematically let $\\tilde W$ be a discrete Haar Wavelet transformation (HWT) matrix with\n",
    "dimensions $N \\times N$ and $v$ an array of values to be compressed. When operating on $v$ with $\\tilde W$ an array $y$ is returened $\\tilde W v= y$. The first half of $y$ constitutes the average and the second half the difference as explained above. Thus the matrix must be constructed in such a away that the first $\\frac{N}{2}$ rows of the matrix produces the weighted average and the second $\\frac{N}{2}$ rows produced the weighted difference. The upper part of the matrix is denoted $H$ and  functions as a lowpass filter while the lower part is denoted $G$ and functions as a highpass filter. \n",
    "Take a grey scale image and translate into a matrix $A$ with dimensions $N \\times M$.  \n",
    "By operating with $\\tilde W_{M}$ from the left on the inverse $\\tilde W_{N}^{-1} $ from the right one obtains a matrix $B = \\tilde W_{M} A \\tilde W_{N}^{-1}$ with four submatrices given by: <br> <br>\n",
    "$$B = \\begin{bmatrix} HAH^{T} & HAG^{T} \\\\\n",
    "                       GAH^{T} &GAG^{T}  \\end{bmatrix}$$\n",
    "                       \n",
    "<br>\n",
    "The resultant image looks something like: <br>\n",
    "\n",
    "![alt text](Smallhaarwt.png \"Title\")\n",
    "\n",
    "<br>\n",
    "\n",
    "Alternatively one could apply the highpass filter and the lowpass filter separately as shown in the matrix above to obtain the submatrices with corresponding images separately. To get back the original one needs only to assemple the submatrices into larger matrix and apply the inverse operation, $\\tilde W_{M}^{-1} B \\tilde W_{N}$."
   ]
  },
  {
   "cell_type": "code",
   "execution_count": null,
   "metadata": {},
   "outputs": [],
   "source": []
  }
 ],
 "metadata": {
  "kernelspec": {
   "display_name": "Python 3",
   "language": "python",
   "name": "python3"
  },
  "language_info": {
   "codemirror_mode": {
    "name": "ipython",
    "version": 3
   },
   "file_extension": ".py",
   "mimetype": "text/x-python",
   "name": "python",
   "nbconvert_exporter": "python",
   "pygments_lexer": "ipython3",
   "version": "3.7.4"
  }
 },
 "nbformat": 4,
 "nbformat_minor": 2
}
